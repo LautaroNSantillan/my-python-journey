{
 "cells": [
  {
   "cell_type": "code",
   "execution_count": 97,
   "id": "2b31d0ed-234a-42fb-b69d-d3e70526890c",
   "metadata": {},
   "outputs": [],
   "source": [
    "import pandas as pd\n",
    "from sklearn.tree import DecisionTreeClassifier\n",
    "from sklearn.model_selection import train_test_split\n",
    "from sklearn.metrics import accuracy_score\n",
    "import joblib\n",
    "from sklearn import tree\n",
    "\n",
    "music_data = pd.read_csv(\"music.csv\")\n",
    "X = music_data.drop(columns=[\"genre\"])  # input dataset \n",
    "y = music_data[\"genre\"]  # output\n",
    "x_train, x_test, y_train, y_test = train_test_split(X, y, test_size=0.2)\n",
    "\n",
    "model = DecisionTreeClassifier()\n",
    "model.fit(x_train, y_train)\n",
    "\n",
    "# joblib.dump(model, \"basic_model\")\n",
    "# model = joblilb.load(\"basic_model)\n",
    "\n",
    "# predictions = model.predict(x_test)\n",
    "# score = accuracy_score(y_test, predictions)\n",
    "\n",
    "tree.export_graphviz(model, out_file='music-recommender.dot',\n",
    "                feature_names=[\"age\", \"gender\"],\n",
    "                class_names=sorted(y.unique()),\n",
    "                label=\"all\",\n",
    "                filled=True)\n",
    "                    \n"
   ]
  },
  {
   "cell_type": "code",
   "execution_count": null,
   "id": "1bbfd6c2-2abf-41c5-a191-a193e5a1c2cf",
   "metadata": {},
   "outputs": [],
   "source": []
  }
 ],
 "metadata": {
  "kernelspec": {
   "display_name": "Python 3 (ipykernel)",
   "language": "python",
   "name": "python3"
  },
  "language_info": {
   "codemirror_mode": {
    "name": "ipython",
    "version": 3
   },
   "file_extension": ".py",
   "mimetype": "text/x-python",
   "name": "python",
   "nbconvert_exporter": "python",
   "pygments_lexer": "ipython3",
   "version": "3.11.7"
  }
 },
 "nbformat": 4,
 "nbformat_minor": 5
}
